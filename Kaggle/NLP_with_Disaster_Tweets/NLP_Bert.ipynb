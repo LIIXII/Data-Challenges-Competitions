{
  "nbformat": 4,
  "nbformat_minor": 0,
  "metadata": {
    "colab": {
      "name": "V1.ipynb",
      "provenance": [],
      "toc_visible": true
    },
    "kernelspec": {
      "name": "python3",
      "display_name": "Python 3"
    },
    "accelerator": "GPU"
  },
  "cells": [
    {
      "cell_type": "code",
      "metadata": {
        "id": "YPgdJHbtKTi8",
        "colab_type": "code",
        "outputId": "2d3eb278-aa01-41c4-933b-febecbc952b9",
        "colab": {
          "base_uri": "https://localhost:8080/",
          "height": 224
        }
      },
      "source": [
        "!pip install pyspellchecker\n",
        "!wget --quiet https://raw.githubusercontent.com/tensorflow/models/master/official/nlp/bert/tokenization.py\n",
        "%tensorflow_version 2.x\n",
        "!pip install sentencepiece"
      ],
      "execution_count": 0,
      "outputs": [
        {
          "output_type": "stream",
          "text": [
            "Collecting pyspellchecker\n",
            "\u001b[?25l  Downloading https://files.pythonhosted.org/packages/04/d1/ec4e830e9f9c1fd788e1459dd09279fdf807bc7a475579fd7192450b879c/pyspellchecker-0.5.4-py2.py3-none-any.whl (1.9MB)\n",
            "\r\u001b[K     |▏                               | 10kB 23.6MB/s eta 0:00:01\r\u001b[K     |▍                               | 20kB 6.7MB/s eta 0:00:01\r\u001b[K     |▌                               | 30kB 9.5MB/s eta 0:00:01\r\u001b[K     |▊                               | 40kB 6.0MB/s eta 0:00:01\r\u001b[K     |▉                               | 51kB 7.3MB/s eta 0:00:01\r\u001b[K     |█                               | 61kB 8.6MB/s eta 0:00:01\r\u001b[K     |█▏                              | 71kB 9.9MB/s eta 0:00:01\r\u001b[K     |█▍                              | 81kB 11.0MB/s eta 0:00:01\r\u001b[K     |█▌                              | 92kB 12.3MB/s eta 0:00:01\r\u001b[K     |█▊                              | 102kB 9.5MB/s eta 0:00:01\r\u001b[K     |█▉                              | 112kB 9.5MB/s eta 0:00:01\r\u001b[K     |██                              | 122kB 9.5MB/s eta 0:00:01\r\u001b[K     |██▎                             | 133kB 9.5MB/s eta 0:00:01\r\u001b[K     |██▍                             | 143kB 9.5MB/s eta 0:00:01\r\u001b[K     |██▋                             | 153kB 9.5MB/s eta 0:00:01\r\u001b[K     |██▊                             | 163kB 9.5MB/s eta 0:00:01\r\u001b[K     |███                             | 174kB 9.5MB/s eta 0:00:01\r\u001b[K     |███                             | 184kB 9.5MB/s eta 0:00:01\r\u001b[K     |███▎                            | 194kB 9.5MB/s eta 0:00:01\r\u001b[K     |███▍                            | 204kB 9.5MB/s eta 0:00:01\r\u001b[K     |███▋                            | 215kB 9.5MB/s eta 0:00:01\r\u001b[K     |███▊                            | 225kB 9.5MB/s eta 0:00:01\r\u001b[K     |████                            | 235kB 9.5MB/s eta 0:00:01\r\u001b[K     |████▏                           | 245kB 9.5MB/s eta 0:00:01\r\u001b[K     |████▎                           | 256kB 9.5MB/s eta 0:00:01\r\u001b[K     |████▌                           | 266kB 9.5MB/s eta 0:00:01\r\u001b[K     |████▋                           | 276kB 9.5MB/s eta 0:00:01\r\u001b[K     |████▉                           | 286kB 9.5MB/s eta 0:00:01\r\u001b[K     |█████                           | 296kB 9.5MB/s eta 0:00:01\r\u001b[K     |█████▏                          | 307kB 9.5MB/s eta 0:00:01\r\u001b[K     |█████▎                          | 317kB 9.5MB/s eta 0:00:01\r\u001b[K     |█████▌                          | 327kB 9.5MB/s eta 0:00:01\r\u001b[K     |█████▋                          | 337kB 9.5MB/s eta 0:00:01\r\u001b[K     |█████▉                          | 348kB 9.5MB/s eta 0:00:01\r\u001b[K     |██████                          | 358kB 9.5MB/s eta 0:00:01\r\u001b[K     |██████▏                         | 368kB 9.5MB/s eta 0:00:01\r\u001b[K     |██████▍                         | 378kB 9.5MB/s eta 0:00:01\r\u001b[K     |██████▌                         | 389kB 9.5MB/s eta 0:00:01\r\u001b[K     |██████▊                         | 399kB 9.5MB/s eta 0:00:01\r\u001b[K     |██████▉                         | 409kB 9.5MB/s eta 0:00:01\r\u001b[K     |███████                         | 419kB 9.5MB/s eta 0:00:01\r\u001b[K     |███████▏                        | 430kB 9.5MB/s eta 0:00:01\r\u001b[K     |███████▍                        | 440kB 9.5MB/s eta 0:00:01\r\u001b[K     |███████▌                        | 450kB 9.5MB/s eta 0:00:01\r\u001b[K     |███████▊                        | 460kB 9.5MB/s eta 0:00:01\r\u001b[K     |████████                        | 471kB 9.5MB/s eta 0:00:01\r\u001b[K     |████████                        | 481kB 9.5MB/s eta 0:00:01\r\u001b[K     |████████▎                       | 491kB 9.5MB/s eta 0:00:01\r\u001b[K     |████████▍                       | 501kB 9.5MB/s eta 0:00:01\r\u001b[K     |████████▋                       | 512kB 9.5MB/s eta 0:00:01\r\u001b[K     |████████▊                       | 522kB 9.5MB/s eta 0:00:01\r\u001b[K     |█████████                       | 532kB 9.5MB/s eta 0:00:01\r\u001b[K     |█████████                       | 542kB 9.5MB/s eta 0:00:01\r\u001b[K     |█████████▎                      | 552kB 9.5MB/s eta 0:00:01\r\u001b[K     |█████████▍                      | 563kB 9.5MB/s eta 0:00:01\r\u001b[K     |█████████▋                      | 573kB 9.5MB/s eta 0:00:01\r\u001b[K     |█████████▉                      | 583kB 9.5MB/s eta 0:00:01\r\u001b[K     |██████████                      | 593kB 9.5MB/s eta 0:00:01\r\u001b[K     |██████████▏                     | 604kB 9.5MB/s eta 0:00:01\r\u001b[K     |██████████▎                     | 614kB 9.5MB/s eta 0:00:01\r\u001b[K     |██████████▌                     | 624kB 9.5MB/s eta 0:00:01\r\u001b[K     |██████████▋                     | 634kB 9.5MB/s eta 0:00:01\r\u001b[K     |██████████▉                     | 645kB 9.5MB/s eta 0:00:01\r\u001b[K     |███████████                     | 655kB 9.5MB/s eta 0:00:01\r\u001b[K     |███████████▏                    | 665kB 9.5MB/s eta 0:00:01\r\u001b[K     |███████████▎                    | 675kB 9.5MB/s eta 0:00:01\r\u001b[K     |███████████▌                    | 686kB 9.5MB/s eta 0:00:01\r\u001b[K     |███████████▊                    | 696kB 9.5MB/s eta 0:00:01\r\u001b[K     |███████████▉                    | 706kB 9.5MB/s eta 0:00:01\r\u001b[K     |████████████                    | 716kB 9.5MB/s eta 0:00:01\r\u001b[K     |████████████▏                   | 727kB 9.5MB/s eta 0:00:01\r\u001b[K     |████████████▍                   | 737kB 9.5MB/s eta 0:00:01\r\u001b[K     |████████████▌                   | 747kB 9.5MB/s eta 0:00:01\r\u001b[K     |████████████▊                   | 757kB 9.5MB/s eta 0:00:01\r\u001b[K     |████████████▉                   | 768kB 9.5MB/s eta 0:00:01\r\u001b[K     |█████████████                   | 778kB 9.5MB/s eta 0:00:01\r\u001b[K     |█████████████▏                  | 788kB 9.5MB/s eta 0:00:01\r\u001b[K     |█████████████▍                  | 798kB 9.5MB/s eta 0:00:01\r\u001b[K     |█████████████▋                  | 808kB 9.5MB/s eta 0:00:01\r\u001b[K     |█████████████▊                  | 819kB 9.5MB/s eta 0:00:01\r\u001b[K     |██████████████                  | 829kB 9.5MB/s eta 0:00:01\r\u001b[K     |██████████████                  | 839kB 9.5MB/s eta 0:00:01\r\u001b[K     |██████████████▎                 | 849kB 9.5MB/s eta 0:00:01\r\u001b[K     |██████████████▍                 | 860kB 9.5MB/s eta 0:00:01\r\u001b[K     |██████████████▋                 | 870kB 9.5MB/s eta 0:00:01\r\u001b[K     |██████████████▊                 | 880kB 9.5MB/s eta 0:00:01\r\u001b[K     |███████████████                 | 890kB 9.5MB/s eta 0:00:01\r\u001b[K     |███████████████                 | 901kB 9.5MB/s eta 0:00:01\r\u001b[K     |███████████████▎                | 911kB 9.5MB/s eta 0:00:01\r\u001b[K     |███████████████▌                | 921kB 9.5MB/s eta 0:00:01\r\u001b[K     |███████████████▋                | 931kB 9.5MB/s eta 0:00:01\r\u001b[K     |███████████████▉                | 942kB 9.5MB/s eta 0:00:01\r\u001b[K     |████████████████                | 952kB 9.5MB/s eta 0:00:01\r\u001b[K     |████████████████▏               | 962kB 9.5MB/s eta 0:00:01\r\u001b[K     |████████████████▎               | 972kB 9.5MB/s eta 0:00:01\r\u001b[K     |████████████████▌               | 983kB 9.5MB/s eta 0:00:01\r\u001b[K     |████████████████▋               | 993kB 9.5MB/s eta 0:00:01\r\u001b[K     |████████████████▉               | 1.0MB 9.5MB/s eta 0:00:01\r\u001b[K     |█████████████████               | 1.0MB 9.5MB/s eta 0:00:01\r\u001b[K     |█████████████████▏              | 1.0MB 9.5MB/s eta 0:00:01\r\u001b[K     |█████████████████▍              | 1.0MB 9.5MB/s eta 0:00:01\r\u001b[K     |█████████████████▌              | 1.0MB 9.5MB/s eta 0:00:01\r\u001b[K     |█████████████████▊              | 1.1MB 9.5MB/s eta 0:00:01\r\u001b[K     |█████████████████▉              | 1.1MB 9.5MB/s eta 0:00:01\r\u001b[K     |██████████████████              | 1.1MB 9.5MB/s eta 0:00:01\r\u001b[K     |██████████████████▏             | 1.1MB 9.5MB/s eta 0:00:01\r\u001b[K     |██████████████████▍             | 1.1MB 9.5MB/s eta 0:00:01\r\u001b[K     |██████████████████▌             | 1.1MB 9.5MB/s eta 0:00:01\r\u001b[K     |██████████████████▊             | 1.1MB 9.5MB/s eta 0:00:01\r\u001b[K     |██████████████████▉             | 1.1MB 9.5MB/s eta 0:00:01\r\u001b[K     |███████████████████             | 1.1MB 9.5MB/s eta 0:00:01\r\u001b[K     |███████████████████▎            | 1.1MB 9.5MB/s eta 0:00:01\r\u001b[K     |███████████████████▍            | 1.2MB 9.5MB/s eta 0:00:01\r\u001b[K     |███████████████████▋            | 1.2MB 9.5MB/s eta 0:00:01\r\u001b[K     |███████████████████▊            | 1.2MB 9.5MB/s eta 0:00:01\r\u001b[K     |████████████████████            | 1.2MB 9.5MB/s eta 0:00:01\r\u001b[K     |████████████████████            | 1.2MB 9.5MB/s eta 0:00:01\r\u001b[K     |████████████████████▎           | 1.2MB 9.5MB/s eta 0:00:01\r\u001b[K     |████████████████████▍           | 1.2MB 9.5MB/s eta 0:00:01\r\u001b[K     |████████████████████▋           | 1.2MB 9.5MB/s eta 0:00:01\r\u001b[K     |████████████████████▊           | 1.2MB 9.5MB/s eta 0:00:01\r\u001b[K     |█████████████████████           | 1.2MB 9.5MB/s eta 0:00:01\r\u001b[K     |█████████████████████▏          | 1.3MB 9.5MB/s eta 0:00:01\r\u001b[K     |█████████████████████▎          | 1.3MB 9.5MB/s eta 0:00:01\r\u001b[K     |█████████████████████▌          | 1.3MB 9.5MB/s eta 0:00:01\r\u001b[K     |█████████████████████▋          | 1.3MB 9.5MB/s eta 0:00:01\r\u001b[K     |█████████████████████▉          | 1.3MB 9.5MB/s eta 0:00:01\r\u001b[K     |██████████████████████          | 1.3MB 9.5MB/s eta 0:00:01\r\u001b[K     |██████████████████████▏         | 1.3MB 9.5MB/s eta 0:00:01\r\u001b[K     |██████████████████████▎         | 1.3MB 9.5MB/s eta 0:00:01\r\u001b[K     |██████████████████████▌         | 1.3MB 9.5MB/s eta 0:00:01\r\u001b[K     |██████████████████████▋         | 1.4MB 9.5MB/s eta 0:00:01\r\u001b[K     |██████████████████████▉         | 1.4MB 9.5MB/s eta 0:00:01\r\u001b[K     |███████████████████████         | 1.4MB 9.5MB/s eta 0:00:01\r\u001b[K     |███████████████████████▏        | 1.4MB 9.5MB/s eta 0:00:01\r\u001b[K     |███████████████████████▍        | 1.4MB 9.5MB/s eta 0:00:01\r\u001b[K     |███████████████████████▌        | 1.4MB 9.5MB/s eta 0:00:01\r\u001b[K     |███████████████████████▊        | 1.4MB 9.5MB/s eta 0:00:01\r\u001b[K     |███████████████████████▉        | 1.4MB 9.5MB/s eta 0:00:01\r\u001b[K     |████████████████████████        | 1.4MB 9.5MB/s eta 0:00:01\r\u001b[K     |████████████████████████▏       | 1.4MB 9.5MB/s eta 0:00:01\r\u001b[K     |████████████████████████▍       | 1.5MB 9.5MB/s eta 0:00:01\r\u001b[K     |████████████████████████▌       | 1.5MB 9.5MB/s eta 0:00:01\r\u001b[K     |████████████████████████▊       | 1.5MB 9.5MB/s eta 0:00:01\r\u001b[K     |█████████████████████████       | 1.5MB 9.5MB/s eta 0:00:01\r\u001b[K     |█████████████████████████       | 1.5MB 9.5MB/s eta 0:00:01\r\u001b[K     |█████████████████████████▎      | 1.5MB 9.5MB/s eta 0:00:01\r\u001b[K     |█████████████████████████▍      | 1.5MB 9.5MB/s eta 0:00:01\r\u001b[K     |█████████████████████████▋      | 1.5MB 9.5MB/s eta 0:00:01\r\u001b[K     |█████████████████████████▊      | 1.5MB 9.5MB/s eta 0:00:01\r\u001b[K     |██████████████████████████      | 1.5MB 9.5MB/s eta 0:00:01\r\u001b[K     |██████████████████████████      | 1.6MB 9.5MB/s eta 0:00:01\r\u001b[K     |██████████████████████████▎     | 1.6MB 9.5MB/s eta 0:00:01\r\u001b[K     |██████████████████████████▍     | 1.6MB 9.5MB/s eta 0:00:01\r\u001b[K     |██████████████████████████▋     | 1.6MB 9.5MB/s eta 0:00:01\r\u001b[K     |██████████████████████████▉     | 1.6MB 9.5MB/s eta 0:00:01\r\u001b[K     |███████████████████████████     | 1.6MB 9.5MB/s eta 0:00:01\r\u001b[K     |███████████████████████████▏    | 1.6MB 9.5MB/s eta 0:00:01\r\u001b[K     |███████████████████████████▎    | 1.6MB 9.5MB/s eta 0:00:01\r\u001b[K     |███████████████████████████▌    | 1.6MB 9.5MB/s eta 0:00:01\r\u001b[K     |███████████████████████████▋    | 1.6MB 9.5MB/s eta 0:00:01\r\u001b[K     |███████████████████████████▉    | 1.7MB 9.5MB/s eta 0:00:01\r\u001b[K     |████████████████████████████    | 1.7MB 9.5MB/s eta 0:00:01\r\u001b[K     |████████████████████████████▏   | 1.7MB 9.5MB/s eta 0:00:01\r\u001b[K     |████████████████████████████▎   | 1.7MB 9.5MB/s eta 0:00:01\r\u001b[K     |████████████████████████████▌   | 1.7MB 9.5MB/s eta 0:00:01\r\u001b[K     |████████████████████████████▊   | 1.7MB 9.5MB/s eta 0:00:01\r\u001b[K     |████████████████████████████▉   | 1.7MB 9.5MB/s eta 0:00:01\r\u001b[K     |█████████████████████████████   | 1.7MB 9.5MB/s eta 0:00:01\r\u001b[K     |█████████████████████████████▏  | 1.7MB 9.5MB/s eta 0:00:01\r\u001b[K     |█████████████████████████████▍  | 1.8MB 9.5MB/s eta 0:00:01\r\u001b[K     |█████████████████████████████▌  | 1.8MB 9.5MB/s eta 0:00:01\r\u001b[K     |█████████████████████████████▊  | 1.8MB 9.5MB/s eta 0:00:01\r\u001b[K     |█████████████████████████████▉  | 1.8MB 9.5MB/s eta 0:00:01\r\u001b[K     |██████████████████████████████  | 1.8MB 9.5MB/s eta 0:00:01\r\u001b[K     |██████████████████████████████▏ | 1.8MB 9.5MB/s eta 0:00:01\r\u001b[K     |██████████████████████████████▍ | 1.8MB 9.5MB/s eta 0:00:01\r\u001b[K     |██████████████████████████████▋ | 1.8MB 9.5MB/s eta 0:00:01\r\u001b[K     |██████████████████████████████▊ | 1.8MB 9.5MB/s eta 0:00:01\r\u001b[K     |███████████████████████████████ | 1.8MB 9.5MB/s eta 0:00:01\r\u001b[K     |███████████████████████████████ | 1.9MB 9.5MB/s eta 0:00:01\r\u001b[K     |███████████████████████████████▎| 1.9MB 9.5MB/s eta 0:00:01\r\u001b[K     |███████████████████████████████▍| 1.9MB 9.5MB/s eta 0:00:01\r\u001b[K     |███████████████████████████████▋| 1.9MB 9.5MB/s eta 0:00:01\r\u001b[K     |███████████████████████████████▊| 1.9MB 9.5MB/s eta 0:00:01\r\u001b[K     |████████████████████████████████| 1.9MB 9.5MB/s eta 0:00:01\r\u001b[K     |████████████████████████████████| 1.9MB 9.5MB/s \n",
            "\u001b[?25hInstalling collected packages: pyspellchecker\n",
            "Successfully installed pyspellchecker-0.5.4\n",
            "TensorFlow 2.x selected.\n",
            "Collecting sentencepiece\n",
            "\u001b[?25l  Downloading https://files.pythonhosted.org/packages/74/f4/2d5214cbf13d06e7cb2c20d84115ca25b53ea76fa1f0ade0e3c9749de214/sentencepiece-0.1.85-cp36-cp36m-manylinux1_x86_64.whl (1.0MB)\n",
            "\u001b[K     |████████████████████████████████| 1.0MB 8.5MB/s \n",
            "\u001b[?25hInstalling collected packages: sentencepiece\n",
            "Successfully installed sentencepiece-0.1.85\n"
          ],
          "name": "stdout"
        }
      ]
    },
    {
      "cell_type": "code",
      "metadata": {
        "id": "kBwOXZnuNhEB",
        "colab_type": "code",
        "outputId": "18b206e7-b3e0-425f-e97c-f57506d25766",
        "colab": {
          "base_uri": "https://localhost:8080/",
          "height": 85
        }
      },
      "source": [
        "import numpy as np\n",
        "import pandas as pd\n",
        "import matplotlib.pyplot as plt\n",
        "\n",
        "\n",
        "\n",
        "import re\n",
        "from spellchecker import SpellChecker\n",
        "import string\n",
        "from nltk.tokenize import word_tokenize\n",
        "import nltk\n",
        "nltk.download('punkt')\n",
        "nltk.download('stopwords')\n",
        "from nltk.corpus import stopwords\n",
        "import tensorflow as tf\n",
        "import tensorflow_hub as hub\n",
        "import tokenization\n",
        "\n",
        "from tensorflow.keras.layers import Dense, Input\n",
        "from tensorflow.keras.optimizers import Adam\n",
        "from tensorflow.keras.models import Model\n",
        "from tensorflow.keras.callbacks import ModelCheckpoint"
      ],
      "execution_count": 0,
      "outputs": [
        {
          "output_type": "stream",
          "text": [
            "[nltk_data] Downloading package punkt to /root/nltk_data...\n",
            "[nltk_data]   Package punkt is already up-to-date!\n",
            "[nltk_data] Downloading package stopwords to /root/nltk_data...\n",
            "[nltk_data]   Unzipping corpora/stopwords.zip.\n"
          ],
          "name": "stdout"
        }
      ]
    },
    {
      "cell_type": "markdown",
      "metadata": {
        "id": "Jd65p92nLMGG",
        "colab_type": "text"
      },
      "source": [
        "# Import data"
      ]
    },
    {
      "cell_type": "code",
      "metadata": {
        "id": "JjSYRw_nKkmi",
        "colab_type": "code",
        "colab": {}
      },
      "source": [
        "df_train = pd.read_csv('/content/drive/My Drive/Colab Notebooks/Kaggle_NLP/train.csv')\n",
        "df_test = pd.read_csv('/content/drive/My Drive/Colab Notebooks/Kaggle_NLP/test.csv')\n",
        "df_sample = pd.read_csv('/content/drive/My Drive/Colab Notebooks/Kaggle_NLP/sample_submission.csv')"
      ],
      "execution_count": 0,
      "outputs": []
    },
    {
      "cell_type": "markdown",
      "metadata": {
        "id": "yX5HQpiHLQaF",
        "colab_type": "text"
      },
      "source": [
        "# EDA"
      ]
    },
    {
      "cell_type": "code",
      "metadata": {
        "id": "aADOLCUXLJph",
        "colab_type": "code",
        "outputId": "6897a2b5-8cc6-4e73-f361-327a2837461f",
        "colab": {
          "base_uri": "https://localhost:8080/",
          "height": 187
        }
      },
      "source": [
        "df_train.info()"
      ],
      "execution_count": 0,
      "outputs": [
        {
          "output_type": "stream",
          "text": [
            "<class 'pandas.core.frame.DataFrame'>\n",
            "RangeIndex: 7613 entries, 0 to 7612\n",
            "Data columns (total 5 columns):\n",
            "id          7613 non-null int64\n",
            "keyword     7552 non-null object\n",
            "location    5080 non-null object\n",
            "text        7613 non-null object\n",
            "target      7613 non-null int64\n",
            "dtypes: int64(2), object(3)\n",
            "memory usage: 297.5+ KB\n"
          ],
          "name": "stdout"
        }
      ]
    },
    {
      "cell_type": "code",
      "metadata": {
        "id": "SjoOcUnLNeT4",
        "colab_type": "code",
        "outputId": "292216ca-fa08-42de-d84f-a3e44da459c3",
        "colab": {
          "base_uri": "https://localhost:8080/",
          "height": 170
        }
      },
      "source": [
        "df_test.info()"
      ],
      "execution_count": 0,
      "outputs": [
        {
          "output_type": "stream",
          "text": [
            "<class 'pandas.core.frame.DataFrame'>\n",
            "RangeIndex: 3263 entries, 0 to 3262\n",
            "Data columns (total 4 columns):\n",
            "id          3263 non-null int64\n",
            "keyword     3237 non-null object\n",
            "location    2158 non-null object\n",
            "text        3263 non-null object\n",
            "dtypes: int64(1), object(3)\n",
            "memory usage: 102.1+ KB\n"
          ],
          "name": "stdout"
        }
      ]
    },
    {
      "cell_type": "code",
      "metadata": {
        "id": "Gup0Hi82Sbfs",
        "colab_type": "code",
        "outputId": "a6bfa9c3-f22d-4f45-edbb-5a0e56269463",
        "colab": {
          "base_uri": "https://localhost:8080/",
          "height": 51
        }
      },
      "source": [
        "print('Shape of df_train {}'.format(df_train.shape))\n",
        "print('Shape of df_test {}'.format(df_test.shape))\n"
      ],
      "execution_count": 0,
      "outputs": [
        {
          "output_type": "stream",
          "text": [
            "Shape of df_train (7613, 5)\n",
            "Shape of df_test (3263, 4)\n"
          ],
          "name": "stdout"
        }
      ]
    },
    {
      "cell_type": "code",
      "metadata": {
        "id": "StwWzngKWP-S",
        "colab_type": "code",
        "outputId": "9befc08c-205f-471d-ebcf-01f4aec009d3",
        "colab": {
          "base_uri": "https://localhost:8080/",
          "height": 204
        }
      },
      "source": [
        "df_train.head()"
      ],
      "execution_count": 0,
      "outputs": [
        {
          "output_type": "execute_result",
          "data": {
            "text/html": [
              "<div>\n",
              "<style scoped>\n",
              "    .dataframe tbody tr th:only-of-type {\n",
              "        vertical-align: middle;\n",
              "    }\n",
              "\n",
              "    .dataframe tbody tr th {\n",
              "        vertical-align: top;\n",
              "    }\n",
              "\n",
              "    .dataframe thead th {\n",
              "        text-align: right;\n",
              "    }\n",
              "</style>\n",
              "<table border=\"1\" class=\"dataframe\">\n",
              "  <thead>\n",
              "    <tr style=\"text-align: right;\">\n",
              "      <th></th>\n",
              "      <th>id</th>\n",
              "      <th>keyword</th>\n",
              "      <th>location</th>\n",
              "      <th>text</th>\n",
              "      <th>target</th>\n",
              "    </tr>\n",
              "  </thead>\n",
              "  <tbody>\n",
              "    <tr>\n",
              "      <th>0</th>\n",
              "      <td>1</td>\n",
              "      <td>NaN</td>\n",
              "      <td>NaN</td>\n",
              "      <td>Our Deeds are the Reason of this #earthquake M...</td>\n",
              "      <td>1</td>\n",
              "    </tr>\n",
              "    <tr>\n",
              "      <th>1</th>\n",
              "      <td>4</td>\n",
              "      <td>NaN</td>\n",
              "      <td>NaN</td>\n",
              "      <td>Forest fire near La Ronge Sask. Canada</td>\n",
              "      <td>1</td>\n",
              "    </tr>\n",
              "    <tr>\n",
              "      <th>2</th>\n",
              "      <td>5</td>\n",
              "      <td>NaN</td>\n",
              "      <td>NaN</td>\n",
              "      <td>All residents asked to 'shelter in place' are ...</td>\n",
              "      <td>1</td>\n",
              "    </tr>\n",
              "    <tr>\n",
              "      <th>3</th>\n",
              "      <td>6</td>\n",
              "      <td>NaN</td>\n",
              "      <td>NaN</td>\n",
              "      <td>13,000 people receive #wildfires evacuation or...</td>\n",
              "      <td>1</td>\n",
              "    </tr>\n",
              "    <tr>\n",
              "      <th>4</th>\n",
              "      <td>7</td>\n",
              "      <td>NaN</td>\n",
              "      <td>NaN</td>\n",
              "      <td>Just got sent this photo from Ruby #Alaska as ...</td>\n",
              "      <td>1</td>\n",
              "    </tr>\n",
              "  </tbody>\n",
              "</table>\n",
              "</div>"
            ],
            "text/plain": [
              "   id keyword  ...                                               text target\n",
              "0   1     NaN  ...  Our Deeds are the Reason of this #earthquake M...      1\n",
              "1   4     NaN  ...             Forest fire near La Ronge Sask. Canada      1\n",
              "2   5     NaN  ...  All residents asked to 'shelter in place' are ...      1\n",
              "3   6     NaN  ...  13,000 people receive #wildfires evacuation or...      1\n",
              "4   7     NaN  ...  Just got sent this photo from Ruby #Alaska as ...      1\n",
              "\n",
              "[5 rows x 5 columns]"
            ]
          },
          "metadata": {
            "tags": []
          },
          "execution_count": 31
        }
      ]
    },
    {
      "cell_type": "markdown",
      "metadata": {
        "id": "xPbj6MujNq2a",
        "colab_type": "text"
      },
      "source": [
        "## Missing Values"
      ]
    },
    {
      "cell_type": "code",
      "metadata": {
        "id": "s4nOMNNuNol5",
        "colab_type": "code",
        "colab": {}
      },
      "source": [
        "def check_missing(df,cols=None,axis=0):\n",
        "  if cols!=None:\n",
        "    df=df[cols]\n",
        "  missing = df.isnull().sum(axis).to_frame()\n",
        "  missing['missing_percent']=df.isnull().mean(axis)\n",
        "  return missing.sort_values(by='missing_percent',ascending = False) "
      ],
      "execution_count": 0,
      "outputs": []
    },
    {
      "cell_type": "code",
      "metadata": {
        "id": "RRcFpDQ0QHNC",
        "colab_type": "code",
        "outputId": "ea719946-72ac-445e-b41e-8bc38e6e3b0d",
        "colab": {
          "base_uri": "https://localhost:8080/",
          "height": 204
        }
      },
      "source": [
        "check_missing(df_train)"
      ],
      "execution_count": 0,
      "outputs": [
        {
          "output_type": "execute_result",
          "data": {
            "text/html": [
              "<div>\n",
              "<style scoped>\n",
              "    .dataframe tbody tr th:only-of-type {\n",
              "        vertical-align: middle;\n",
              "    }\n",
              "\n",
              "    .dataframe tbody tr th {\n",
              "        vertical-align: top;\n",
              "    }\n",
              "\n",
              "    .dataframe thead th {\n",
              "        text-align: right;\n",
              "    }\n",
              "</style>\n",
              "<table border=\"1\" class=\"dataframe\">\n",
              "  <thead>\n",
              "    <tr style=\"text-align: right;\">\n",
              "      <th></th>\n",
              "      <th>0</th>\n",
              "      <th>missing_percent</th>\n",
              "    </tr>\n",
              "  </thead>\n",
              "  <tbody>\n",
              "    <tr>\n",
              "      <th>location</th>\n",
              "      <td>2533</td>\n",
              "      <td>0.332720</td>\n",
              "    </tr>\n",
              "    <tr>\n",
              "      <th>keyword</th>\n",
              "      <td>61</td>\n",
              "      <td>0.008013</td>\n",
              "    </tr>\n",
              "    <tr>\n",
              "      <th>id</th>\n",
              "      <td>0</td>\n",
              "      <td>0.000000</td>\n",
              "    </tr>\n",
              "    <tr>\n",
              "      <th>text</th>\n",
              "      <td>0</td>\n",
              "      <td>0.000000</td>\n",
              "    </tr>\n",
              "    <tr>\n",
              "      <th>target</th>\n",
              "      <td>0</td>\n",
              "      <td>0.000000</td>\n",
              "    </tr>\n",
              "  </tbody>\n",
              "</table>\n",
              "</div>"
            ],
            "text/plain": [
              "             0  missing_percent\n",
              "location  2533         0.332720\n",
              "keyword     61         0.008013\n",
              "id           0         0.000000\n",
              "text         0         0.000000\n",
              "target       0         0.000000"
            ]
          },
          "metadata": {
            "tags": []
          },
          "execution_count": 27
        }
      ]
    },
    {
      "cell_type": "code",
      "metadata": {
        "id": "fHA_EWfiQYwL",
        "colab_type": "code",
        "outputId": "aa7a6028-e8c0-466f-9585-2676f6c125a1",
        "colab": {
          "base_uri": "https://localhost:8080/",
          "height": 173
        }
      },
      "source": [
        "check_missing(df_test)"
      ],
      "execution_count": 0,
      "outputs": [
        {
          "output_type": "execute_result",
          "data": {
            "text/html": [
              "<div>\n",
              "<style scoped>\n",
              "    .dataframe tbody tr th:only-of-type {\n",
              "        vertical-align: middle;\n",
              "    }\n",
              "\n",
              "    .dataframe tbody tr th {\n",
              "        vertical-align: top;\n",
              "    }\n",
              "\n",
              "    .dataframe thead th {\n",
              "        text-align: right;\n",
              "    }\n",
              "</style>\n",
              "<table border=\"1\" class=\"dataframe\">\n",
              "  <thead>\n",
              "    <tr style=\"text-align: right;\">\n",
              "      <th></th>\n",
              "      <th>0</th>\n",
              "      <th>missing_percent</th>\n",
              "    </tr>\n",
              "  </thead>\n",
              "  <tbody>\n",
              "    <tr>\n",
              "      <th>location</th>\n",
              "      <td>1105</td>\n",
              "      <td>0.338645</td>\n",
              "    </tr>\n",
              "    <tr>\n",
              "      <th>keyword</th>\n",
              "      <td>26</td>\n",
              "      <td>0.007968</td>\n",
              "    </tr>\n",
              "    <tr>\n",
              "      <th>id</th>\n",
              "      <td>0</td>\n",
              "      <td>0.000000</td>\n",
              "    </tr>\n",
              "    <tr>\n",
              "      <th>text</th>\n",
              "      <td>0</td>\n",
              "      <td>0.000000</td>\n",
              "    </tr>\n",
              "  </tbody>\n",
              "</table>\n",
              "</div>"
            ],
            "text/plain": [
              "             0  missing_percent\n",
              "location  1105         0.338645\n",
              "keyword     26         0.007968\n",
              "id           0         0.000000\n",
              "text         0         0.000000"
            ]
          },
          "metadata": {
            "tags": []
          },
          "execution_count": 28
        }
      ]
    },
    {
      "cell_type": "markdown",
      "metadata": {
        "id": "s1MjV0B6S9_D",
        "colab_type": "text"
      },
      "source": [
        "## Class distribution"
      ]
    },
    {
      "cell_type": "code",
      "metadata": {
        "id": "EjtxEpTRQuff",
        "colab_type": "code",
        "outputId": "aae83af6-a0cb-4229-e52c-aefc4bb9388f",
        "colab": {
          "base_uri": "https://localhost:8080/",
          "height": 309
        }
      },
      "source": [
        "pd.value_counts(df_train['target']).plot.bar()\n",
        "plt.title('1-0 class histogram')\n",
        "plt.xlabel('Class')\n",
        "plt.ylabel('Frequency')"
      ],
      "execution_count": 0,
      "outputs": [
        {
          "output_type": "execute_result",
          "data": {
            "text/plain": [
              "Text(0, 0.5, 'Frequency')"
            ]
          },
          "metadata": {
            "tags": []
          },
          "execution_count": 29
        },
        {
          "output_type": "display_data",
          "data": {
            "image/png": "[encoded data removed]",
            "text/plain": [
              "<Figure size 432x288 with 1 Axes>"
            ]
          },
          "metadata": {
            "tags": []
          }
        }
      ]
    },
    {
      "cell_type": "markdown",
      "metadata": {
        "id": "o90pr6rAYM0m",
        "colab_type": "text"
      },
      "source": [
        "## Data Cleaning"
      ]
    },
    {
      "cell_type": "code",
      "metadata": {
        "id": "cVL5DGfkFUNQ",
        "colab_type": "code",
        "colab": {}
      },
      "source": [
        "def remove_URL(text):\n",
        "    url = re.compile(r'https?://\\S+|www\\.\\S+')\n",
        "    return url.sub(r'',text)"
      ],
      "execution_count": 0,
      "outputs": []
    },
    {
      "cell_type": "code",
      "metadata": {
        "id": "DwLPjTLDFP5I",
        "colab_type": "code",
        "colab": {}
      },
      "source": [
        "def remove_html(text):\n",
        "    html=re.compile(r'<.*?>')\n",
        "    return html.sub(r'',text)"
      ],
      "execution_count": 0,
      "outputs": []
    },
    {
      "cell_type": "code",
      "metadata": {
        "id": "vxoz7g3nFcsp",
        "colab_type": "code",
        "colab": {}
      },
      "source": [
        "def remove_emoji(text):\n",
        "    emoji_pattern = re.compile(\"[\"\n",
        "                           u\"\\U0001F600-\\U0001F64F\"  # emoticons\n",
        "                           u\"\\U0001F300-\\U0001F5FF\"  # symbols & pictographs\n",
        "                           u\"\\U0001F680-\\U0001F6FF\"  # transport & map symbols\n",
        "                           u\"\\U0001F1E0-\\U0001F1FF\"  # flags (iOS)\n",
        "                           u\"\\U00002702-\\U000027B0\"\n",
        "                           u\"\\U000024C2-\\U0001F251\"\n",
        "                           \"]+\", flags=re.UNICODE)\n",
        "    return emoji_pattern.sub(r'', text)"
      ],
      "execution_count": 0,
      "outputs": []
    },
    {
      "cell_type": "code",
      "metadata": {
        "id": "31_rUKDnMOTr",
        "colab_type": "code",
        "colab": {}
      },
      "source": [
        "def remove_punct(text):\n",
        "    table=str.maketrans('','',string.punctuation)\n",
        "    return text.translate(table)"
      ],
      "execution_count": 0,
      "outputs": []
    },
    {
      "cell_type": "code",
      "metadata": {
        "id": "XRSXAg1PMSH5",
        "colab_type": "code",
        "colab": {}
      },
      "source": [
        "from spellchecker import SpellChecker\n",
        "\n",
        "spell = SpellChecker()\n",
        "def correct_spellings(text):\n",
        "    corrected_text = []\n",
        "    misspelled_words = spell.unknown(text.split())\n",
        "    for word in text.split():\n",
        "        if word in misspelled_words:\n",
        "            corrected_text.append(spell.correction(word))\n",
        "        else:\n",
        "            corrected_text.append(word)\n",
        "    return \" \".join(corrected_text)"
      ],
      "execution_count": 0,
      "outputs": []
    },
    {
      "cell_type": "code",
      "metadata": {
        "id": "jJ455ONxH1vF",
        "colab_type": "code",
        "colab": {}
      },
      "source": [
        "abbreviations = {\n",
        "    \"$\" : \" dollar \",\n",
        "    \"€\" : \" euro \",\n",
        "    \"4ao\" : \"for adults only\",\n",
        "    \"a.m\" : \"before midday\",\n",
        "    \"a3\" : \"anytime anywhere anyplace\",\n",
        "    \"aamof\" : \"as a matter of fact\",\n",
        "    \"acct\" : \"account\",\n",
        "    \"adih\" : \"another day in hell\",\n",
        "    \"afaic\" : \"as far as i am concerned\",\n",
        "    \"afaict\" : \"as far as i can tell\",\n",
        "    \"afaik\" : \"as far as i know\",\n",
        "    \"afair\" : \"as far as i remember\",\n",
        "    \"afk\" : \"away from keyboard\",\n",
        "    \"app\" : \"application\",\n",
        "    \"approx\" : \"approximately\",\n",
        "    \"apps\" : \"applications\",\n",
        "    \"asap\" : \"as soon as possible\",\n",
        "    \"asl\" : \"age, sex, location\",\n",
        "    \"atk\" : \"at the keyboard\",\n",
        "    \"ave.\" : \"avenue\",\n",
        "    \"aymm\" : \"are you my mother\",\n",
        "    \"ayor\" : \"at your own risk\", \n",
        "    \"b&b\" : \"bed and breakfast\",\n",
        "    \"b+b\" : \"bed and breakfast\",\n",
        "    \"b.c\" : \"before christ\",\n",
        "    \"b2b\" : \"business to business\",\n",
        "    \"b2c\" : \"business to customer\",\n",
        "    \"b4\" : \"before\",\n",
        "    \"b4n\" : \"bye for now\",\n",
        "    \"b@u\" : \"back at you\",\n",
        "    \"bae\" : \"before anyone else\",\n",
        "    \"bak\" : \"back at keyboard\",\n",
        "    \"bbbg\" : \"bye bye be good\",\n",
        "    \"bbc\" : \"british broadcasting corporation\",\n",
        "    \"bbias\" : \"be back in a second\",\n",
        "    \"bbl\" : \"be back later\",\n",
        "    \"bbs\" : \"be back soon\",\n",
        "    \"be4\" : \"before\",\n",
        "    \"bfn\" : \"bye for now\",\n",
        "    \"blvd\" : \"boulevard\",\n",
        "    \"bout\" : \"about\",\n",
        "    \"brb\" : \"be right back\",\n",
        "    \"bros\" : \"brothers\",\n",
        "    \"brt\" : \"be right there\",\n",
        "    \"bsaaw\" : \"big smile and a wink\",\n",
        "    \"btw\" : \"by the way\",\n",
        "    \"bwl\" : \"bursting with laughter\",\n",
        "    \"c/o\" : \"care of\",\n",
        "    \"cet\" : \"central european time\",\n",
        "    \"cf\" : \"compare\",\n",
        "    \"cia\" : \"central intelligence agency\",\n",
        "    \"csl\" : \"can not stop laughing\",\n",
        "    \"cu\" : \"see you\",\n",
        "    \"cul8r\" : \"see you later\",\n",
        "    \"cv\" : \"curriculum vitae\",\n",
        "    \"cwot\" : \"complete waste of time\",\n",
        "    \"cya\" : \"see you\",\n",
        "    \"cyt\" : \"see you tomorrow\",\n",
        "    \"dae\" : \"does anyone else\",\n",
        "    \"dbmib\" : \"do not bother me i am busy\",\n",
        "    \"diy\" : \"do it yourself\",\n",
        "    \"dm\" : \"direct message\",\n",
        "    \"dwh\" : \"during work hours\",\n",
        "    \"e123\" : \"easy as one two three\",\n",
        "    \"eet\" : \"eastern european time\",\n",
        "    \"eg\" : \"example\",\n",
        "    \"embm\" : \"early morning business meeting\",\n",
        "    \"encl\" : \"enclosed\",\n",
        "    \"encl.\" : \"enclosed\",\n",
        "    \"etc\" : \"and so on\",\n",
        "    \"faq\" : \"frequently asked questions\",\n",
        "    \"fawc\" : \"for anyone who cares\",\n",
        "    \"fb\" : \"facebook\",\n",
        "    \"fc\" : \"fingers crossed\",\n",
        "    \"fig\" : \"figure\",\n",
        "    \"fimh\" : \"forever in my heart\", \n",
        "    \"ft.\" : \"feet\",\n",
        "    \"ft\" : \"featuring\",\n",
        "    \"ftl\" : \"for the loss\",\n",
        "    \"ftw\" : \"for the win\",\n",
        "    \"fwiw\" : \"for what it is worth\",\n",
        "    \"fyi\" : \"for your information\",\n",
        "    \"g9\" : \"genius\",\n",
        "    \"gahoy\" : \"get a hold of yourself\",\n",
        "    \"gal\" : \"get a life\",\n",
        "    \"gcse\" : \"general certificate of secondary education\",\n",
        "    \"gfn\" : \"gone for now\",\n",
        "    \"gg\" : \"good game\",\n",
        "    \"gl\" : \"good luck\",\n",
        "    \"glhf\" : \"good luck have fun\",\n",
        "    \"gmt\" : \"greenwich mean time\",\n",
        "    \"gmta\" : \"great minds think alike\",\n",
        "    \"gn\" : \"good night\",\n",
        "    \"g.o.a.t\" : \"greatest of all time\",\n",
        "    \"goat\" : \"greatest of all time\",\n",
        "    \"goi\" : \"get over it\",\n",
        "    \"gps\" : \"global positioning system\",\n",
        "    \"gr8\" : \"great\",\n",
        "    \"gratz\" : \"congratulations\",\n",
        "    \"gyal\" : \"girl\",\n",
        "    \"h&c\" : \"hot and cold\",\n",
        "    \"hp\" : \"horsepower\",\n",
        "    \"hr\" : \"hour\",\n",
        "    \"hrh\" : \"his royal highness\",\n",
        "    \"ht\" : \"height\",\n",
        "    \"ibrb\" : \"i will be right back\",\n",
        "    \"ic\" : \"i see\",\n",
        "    \"icq\" : \"i seek you\",\n",
        "    \"icymi\" : \"in case you missed it\",\n",
        "    \"idc\" : \"i do not care\",\n",
        "    \"idgadf\" : \"i do not give a damn fuck\",\n",
        "    \"idgaf\" : \"i do not give a fuck\",\n",
        "    \"idk\" : \"i do not know\",\n",
        "    \"ie\" : \"that is\",\n",
        "    \"i.e\" : \"that is\",\n",
        "    \"ifyp\" : \"i feel your pain\",\n",
        "    \"IG\" : \"instagram\",\n",
        "    \"iirc\" : \"if i remember correctly\",\n",
        "    \"ilu\" : \"i love you\",\n",
        "    \"ily\" : \"i love you\",\n",
        "    \"imho\" : \"in my humble opinion\",\n",
        "    \"imo\" : \"in my opinion\",\n",
        "    \"imu\" : \"i miss you\",\n",
        "    \"iow\" : \"in other words\",\n",
        "    \"irl\" : \"in real life\",\n",
        "    \"j4f\" : \"just for fun\",\n",
        "    \"jic\" : \"just in case\",\n",
        "    \"jk\" : \"just kidding\",\n",
        "    \"jsyk\" : \"just so you know\",\n",
        "    \"l8r\" : \"later\",\n",
        "    \"lb\" : \"pound\",\n",
        "    \"lbs\" : \"pounds\",\n",
        "    \"ldr\" : \"long distance relationship\",\n",
        "    \"lmao\" : \"laugh my ass off\",\n",
        "    \"lmfao\" : \"laugh my fucking ass off\",\n",
        "    \"lol\" : \"laughing out loud\",\n",
        "    \"ltd\" : \"limited\",\n",
        "    \"ltns\" : \"long time no see\",\n",
        "    \"m8\" : \"mate\",\n",
        "    \"mf\" : \"motherfucker\",\n",
        "    \"mfs\" : \"motherfuckers\",\n",
        "    \"mfw\" : \"my face when\",\n",
        "    \"mofo\" : \"motherfucker\",\n",
        "    \"mph\" : \"miles per hour\",\n",
        "    \"mr\" : \"mister\",\n",
        "    \"mrw\" : \"my reaction when\",\n",
        "    \"ms\" : \"miss\",\n",
        "    \"mte\" : \"my thoughts exactly\",\n",
        "    \"nagi\" : \"not a good idea\",\n",
        "    \"nbc\" : \"national broadcasting company\",\n",
        "    \"nbd\" : \"not big deal\",\n",
        "    \"nfs\" : \"not for sale\",\n",
        "    \"ngl\" : \"not going to lie\",\n",
        "    \"nhs\" : \"national health service\",\n",
        "    \"nrn\" : \"no reply necessary\",\n",
        "    \"nsfl\" : \"not safe for life\",\n",
        "    \"nsfw\" : \"not safe for work\",\n",
        "    \"nth\" : \"nice to have\",\n",
        "    \"nvr\" : \"never\",\n",
        "    \"nyc\" : \"new york city\",\n",
        "    \"oc\" : \"original content\",\n",
        "    \"og\" : \"original\",\n",
        "    \"ohp\" : \"overhead projector\",\n",
        "    \"oic\" : \"oh i see\",\n",
        "    \"omdb\" : \"over my dead body\",\n",
        "    \"omg\" : \"oh my god\",\n",
        "    \"omw\" : \"on my way\",\n",
        "    \"p.a\" : \"per annum\",\n",
        "    \"p.m\" : \"after midday\",\n",
        "    \"pm\" : \"prime minister\",\n",
        "    \"poc\" : \"people of color\",\n",
        "    \"pov\" : \"point of view\",\n",
        "    \"pp\" : \"pages\",\n",
        "    \"ppl\" : \"people\",\n",
        "    \"prw\" : \"parents are watching\",\n",
        "    \"ps\" : \"postscript\",\n",
        "    \"pt\" : \"point\",\n",
        "    \"ptb\" : \"please text back\",\n",
        "    \"pto\" : \"please turn over\",\n",
        "    \"qpsa\" : \"what happens\", #\"que pasa\",\n",
        "    \"ratchet\" : \"rude\",\n",
        "    \"rbtl\" : \"read between the lines\",\n",
        "    \"rlrt\" : \"real life retweet\", \n",
        "    \"rofl\" : \"rolling on the floor laughing\",\n",
        "    \"roflol\" : \"rolling on the floor laughing out loud\",\n",
        "    \"rotflmao\" : \"rolling on the floor laughing my ass off\",\n",
        "    \"rt\" : \"retweet\",\n",
        "    \"ruok\" : \"are you ok\",\n",
        "    \"sfw\" : \"safe for work\",\n",
        "    \"sk8\" : \"skate\",\n",
        "    \"smh\" : \"shake my head\",\n",
        "    \"sq\" : \"square\",\n",
        "    \"srsly\" : \"seriously\", \n",
        "    \"ssdd\" : \"same stuff different day\",\n",
        "    \"tbh\" : \"to be honest\",\n",
        "    \"tbs\" : \"tablespooful\",\n",
        "    \"tbsp\" : \"tablespooful\",\n",
        "    \"tfw\" : \"that feeling when\",\n",
        "    \"thks\" : \"thank you\",\n",
        "    \"tho\" : \"though\",\n",
        "    \"thx\" : \"thank you\",\n",
        "    \"tia\" : \"thanks in advance\",\n",
        "    \"til\" : \"today i learned\",\n",
        "    \"tl;dr\" : \"too long i did not read\",\n",
        "    \"tldr\" : \"too long i did not read\",\n",
        "    \"tmb\" : \"tweet me back\",\n",
        "    \"tntl\" : \"trying not to laugh\",\n",
        "    \"ttyl\" : \"talk to you later\",\n",
        "    \"u\" : \"you\",\n",
        "    \"u2\" : \"you too\",\n",
        "    \"u4e\" : \"yours for ever\",\n",
        "    \"utc\" : \"coordinated universal time\",\n",
        "    \"w/\" : \"with\",\n",
        "    \"w/o\" : \"without\",\n",
        "    \"w8\" : \"wait\",\n",
        "    \"wassup\" : \"what is up\",\n",
        "    \"wb\" : \"welcome back\",\n",
        "    \"wtf\" : \"what the fuck\",\n",
        "    \"wtg\" : \"way to go\",\n",
        "    \"wtpa\" : \"where the party at\",\n",
        "    \"wuf\" : \"where are you from\",\n",
        "    \"wuzup\" : \"what is up\",\n",
        "    \"wywh\" : \"wish you were here\",\n",
        "    \"yd\" : \"yard\",\n",
        "    \"ygtr\" : \"you got that right\",\n",
        "    \"ynk\" : \"you never know\",\n",
        "    \"zzz\" : \"sleeping bored and tired\"\n",
        "}\n",
        "def convert_abbrev(word):\n",
        "    return abbreviations[word.lower()] if word.lower() in abbreviations.keys() else word\n",
        "\n",
        "def convert_abbrev_in_text(text):\n",
        "    tokens = word_tokenize(text)\n",
        "    tokens = [convert_abbrev(word) for word in tokens]\n",
        "    text = ' '.join(tokens)\n",
        "    return text"
      ],
      "execution_count": 0,
      "outputs": []
    },
    {
      "cell_type": "code",
      "metadata": {
        "id": "gCv4-n_V6ELu",
        "colab_type": "code",
        "colab": {}
      },
      "source": [
        "def remove_stopwords(text):\n",
        "  stopWords = set(stopwords.words('english'))\n",
        "  tokens = word_tokenize(text)\n",
        "  tokens = [w for w in tokens if not w in stopWords]\n",
        "  text=' '.join(tokens)\n",
        "  return text\n"
      ],
      "execution_count": 0,
      "outputs": []
    },
    {
      "cell_type": "code",
      "metadata": {
        "id": "PBM2ie6PKL3Q",
        "colab_type": "code",
        "outputId": "a089be31-0f26-4dab-d78b-52d4e8489e6e",
        "colab": {
          "base_uri": "https://localhost:8080/",
          "height": 545
        }
      },
      "source": [
        "# Thanks to https://www.kaggle.com/wrrosa/keras-bert-using-tfhub-modified-train-data - \n",
        "# author of this kernel read tweets in training data and figure out that some of them have errors:\n",
        "\n",
        "ids_with_target_error = [328,443,513,2619,3640,3900,4342,5781,6552,6554,6570,6701,6702,6729,6861,7226]\n",
        "df_train.loc[df_train['id'].isin(ids_with_target_error),'target'] = 0\n",
        "df_train[df_train['id'].isin(ids_with_target_error)]"
      ],
      "execution_count": 0,
      "outputs": [
        {
          "output_type": "execute_result",
          "data": {
            "text/html": [
              "<div>\n",
              "<style scoped>\n",
              "    .dataframe tbody tr th:only-of-type {\n",
              "        vertical-align: middle;\n",
              "    }\n",
              "\n",
              "    .dataframe tbody tr th {\n",
              "        vertical-align: top;\n",
              "    }\n",
              "\n",
              "    .dataframe thead th {\n",
              "        text-align: right;\n",
              "    }\n",
              "</style>\n",
              "<table border=\"1\" class=\"dataframe\">\n",
              "  <thead>\n",
              "    <tr style=\"text-align: right;\">\n",
              "      <th></th>\n",
              "      <th>id</th>\n",
              "      <th>keyword</th>\n",
              "      <th>location</th>\n",
              "      <th>text</th>\n",
              "      <th>target</th>\n",
              "    </tr>\n",
              "  </thead>\n",
              "  <tbody>\n",
              "    <tr>\n",
              "      <th>229</th>\n",
              "      <td>328</td>\n",
              "      <td>annihilated</td>\n",
              "      <td>NaN</td>\n",
              "      <td>Ready to get annihilated for the BUCS game</td>\n",
              "      <td>0</td>\n",
              "    </tr>\n",
              "    <tr>\n",
              "      <th>301</th>\n",
              "      <td>443</td>\n",
              "      <td>apocalypse</td>\n",
              "      <td>NaN</td>\n",
              "      <td>Short Reading\\n\\nApocalypse 21:1023 \\n\\nIn the...</td>\n",
              "      <td>0</td>\n",
              "    </tr>\n",
              "    <tr>\n",
              "      <th>356</th>\n",
              "      <td>513</td>\n",
              "      <td>army</td>\n",
              "      <td>Studio</td>\n",
              "      <td>But if you build an army of 100 dogs and their...</td>\n",
              "      <td>0</td>\n",
              "    </tr>\n",
              "    <tr>\n",
              "      <th>1822</th>\n",
              "      <td>2619</td>\n",
              "      <td>crashed</td>\n",
              "      <td>NaN</td>\n",
              "      <td>My iPod crashed..... \\n#WeLoveYouLouis \\n#MTVH...</td>\n",
              "      <td>0</td>\n",
              "    </tr>\n",
              "    <tr>\n",
              "      <th>2536</th>\n",
              "      <td>3640</td>\n",
              "      <td>desolation</td>\n",
              "      <td>Quilmes , Arg</td>\n",
              "      <td>This desperation dislocation\\nSeparation conde...</td>\n",
              "      <td>0</td>\n",
              "    </tr>\n",
              "    <tr>\n",
              "      <th>2715</th>\n",
              "      <td>3900</td>\n",
              "      <td>devastated</td>\n",
              "      <td>PG Chillin!</td>\n",
              "      <td>Man Currensy really be talkin that talk... I'd...</td>\n",
              "      <td>0</td>\n",
              "    </tr>\n",
              "    <tr>\n",
              "      <th>3024</th>\n",
              "      <td>4342</td>\n",
              "      <td>dust%20storm</td>\n",
              "      <td>chicago</td>\n",
              "      <td>Going to a fest? Bring swimming goggles for th...</td>\n",
              "      <td>0</td>\n",
              "    </tr>\n",
              "    <tr>\n",
              "      <th>4068</th>\n",
              "      <td>5781</td>\n",
              "      <td>forest%20fires</td>\n",
              "      <td>NaN</td>\n",
              "      <td>Campsite recommendations \\nToilets /shower \\nP...</td>\n",
              "      <td>0</td>\n",
              "    </tr>\n",
              "    <tr>\n",
              "      <th>4609</th>\n",
              "      <td>6552</td>\n",
              "      <td>injury</td>\n",
              "      <td>Saint Paul</td>\n",
              "      <td>My prediction for the Vikings game this Sunday...</td>\n",
              "      <td>0</td>\n",
              "    </tr>\n",
              "    <tr>\n",
              "      <th>4611</th>\n",
              "      <td>6554</td>\n",
              "      <td>injury</td>\n",
              "      <td>NaN</td>\n",
              "      <td>Dante Exum's knee injury could stem Jazz's hop...</td>\n",
              "      <td>0</td>\n",
              "    </tr>\n",
              "    <tr>\n",
              "      <th>4622</th>\n",
              "      <td>6570</td>\n",
              "      <td>injury</td>\n",
              "      <td>NaN</td>\n",
              "      <td>@Sport_EN Just being linked to Arsenal causes ...</td>\n",
              "      <td>0</td>\n",
              "    </tr>\n",
              "    <tr>\n",
              "      <th>4713</th>\n",
              "      <td>6701</td>\n",
              "      <td>lava</td>\n",
              "      <td>Nashville, TN</td>\n",
              "      <td>Imagine a room with walls that are lava lamps.</td>\n",
              "      <td>0</td>\n",
              "    </tr>\n",
              "    <tr>\n",
              "      <th>4714</th>\n",
              "      <td>6702</td>\n",
              "      <td>lava</td>\n",
              "      <td>probably watching survivor</td>\n",
              "      <td>The sunset looked like an erupting volcano ......</td>\n",
              "      <td>0</td>\n",
              "    </tr>\n",
              "    <tr>\n",
              "      <th>4732</th>\n",
              "      <td>6729</td>\n",
              "      <td>lava</td>\n",
              "      <td>Clayton, NC</td>\n",
              "      <td>Check out my Lava lamp dude ???? http://t.co/T...</td>\n",
              "      <td>0</td>\n",
              "    </tr>\n",
              "    <tr>\n",
              "      <th>4820</th>\n",
              "      <td>6861</td>\n",
              "      <td>mass%20murder</td>\n",
              "      <td>i'm a Citizen of the World</td>\n",
              "      <td>If abortion is murder then blowjobs are cannib...</td>\n",
              "      <td>0</td>\n",
              "    </tr>\n",
              "    <tr>\n",
              "      <th>5068</th>\n",
              "      <td>7226</td>\n",
              "      <td>natural%20disaster</td>\n",
              "      <td>on to the next adventure</td>\n",
              "      <td>Of course the one day I have to dress professi...</td>\n",
              "      <td>0</td>\n",
              "    </tr>\n",
              "  </tbody>\n",
              "</table>\n",
              "</div>"
            ],
            "text/plain": [
              "        id  ... target\n",
              "229    328  ...      0\n",
              "301    443  ...      0\n",
              "356    513  ...      0\n",
              "1822  2619  ...      0\n",
              "2536  3640  ...      0\n",
              "2715  3900  ...      0\n",
              "3024  4342  ...      0\n",
              "4068  5781  ...      0\n",
              "4609  6552  ...      0\n",
              "4611  6554  ...      0\n",
              "4622  6570  ...      0\n",
              "4713  6701  ...      0\n",
              "4714  6702  ...      0\n",
              "4732  6729  ...      0\n",
              "4820  6861  ...      0\n",
              "5068  7226  ...      0\n",
              "\n",
              "[16 rows x 5 columns]"
            ]
          },
          "metadata": {
            "tags": []
          },
          "execution_count": 31
        }
      ]
    },
    {
      "cell_type": "code",
      "metadata": {
        "id": "Skzkk3PUJW-E",
        "colab_type": "code",
        "colab": {}
      },
      "source": [
        "def data_cleaning(df,col='text'):\n",
        "  df[col]=df[col].map(lambda x:remove_URL(x))\\\n",
        "  .map(lambda x:remove_html(x))\\\n",
        "  .map(lambda x:remove_emoji(x))\\\n",
        "  .map(lambda x:remove_punct(x))\\\n",
        "  .map(lambda x:convert_abbrev_in_text(x))\\\n",
        "  .map(lambda x:remove_stopwords(x))\n",
        "  \n"
      ],
      "execution_count": 0,
      "outputs": []
    },
    {
      "cell_type": "code",
      "metadata": {
        "id": "mj85RU-VOjWr",
        "colab_type": "code",
        "colab": {}
      },
      "source": [
        "data_cleaning(df_train)"
      ],
      "execution_count": 0,
      "outputs": []
    },
    {
      "cell_type": "code",
      "metadata": {
        "id": "02q_JmRaOq7I",
        "colab_type": "code",
        "outputId": "bb888fd1-6d15-46ad-b809-ab3908621ae8",
        "colab": {
          "base_uri": "https://localhost:8080/",
          "height": 204
        }
      },
      "source": [
        "df_train.head()"
      ],
      "execution_count": 0,
      "outputs": [
        {
          "output_type": "execute_result",
          "data": {
            "text/html": [
              "<div>\n",
              "<style scoped>\n",
              "    .dataframe tbody tr th:only-of-type {\n",
              "        vertical-align: middle;\n",
              "    }\n",
              "\n",
              "    .dataframe tbody tr th {\n",
              "        vertical-align: top;\n",
              "    }\n",
              "\n",
              "    .dataframe thead th {\n",
              "        text-align: right;\n",
              "    }\n",
              "</style>\n",
              "<table border=\"1\" class=\"dataframe\">\n",
              "  <thead>\n",
              "    <tr style=\"text-align: right;\">\n",
              "      <th></th>\n",
              "      <th>id</th>\n",
              "      <th>keyword</th>\n",
              "      <th>location</th>\n",
              "      <th>text</th>\n",
              "      <th>target</th>\n",
              "    </tr>\n",
              "  </thead>\n",
              "  <tbody>\n",
              "    <tr>\n",
              "      <th>0</th>\n",
              "      <td>1</td>\n",
              "      <td>NaN</td>\n",
              "      <td>NaN</td>\n",
              "      <td>Our Deeds Reason earthquake May ALLAH Forgive us</td>\n",
              "      <td>1</td>\n",
              "    </tr>\n",
              "    <tr>\n",
              "      <th>1</th>\n",
              "      <td>4</td>\n",
              "      <td>NaN</td>\n",
              "      <td>NaN</td>\n",
              "      <td>Forest fire near La Ronge Sask Canada</td>\n",
              "      <td>1</td>\n",
              "    </tr>\n",
              "    <tr>\n",
              "      <th>2</th>\n",
              "      <td>5</td>\n",
              "      <td>NaN</td>\n",
              "      <td>NaN</td>\n",
              "      <td>All residents asked shelter place notified off...</td>\n",
              "      <td>1</td>\n",
              "    </tr>\n",
              "    <tr>\n",
              "      <th>3</th>\n",
              "      <td>6</td>\n",
              "      <td>NaN</td>\n",
              "      <td>NaN</td>\n",
              "      <td>13000 people receive wildfires evacuation orde...</td>\n",
              "      <td>1</td>\n",
              "    </tr>\n",
              "    <tr>\n",
              "      <th>4</th>\n",
              "      <td>7</td>\n",
              "      <td>NaN</td>\n",
              "      <td>NaN</td>\n",
              "      <td>Just got sent photo Ruby Alaska smoke wildfire...</td>\n",
              "      <td>1</td>\n",
              "    </tr>\n",
              "  </tbody>\n",
              "</table>\n",
              "</div>"
            ],
            "text/plain": [
              "   id keyword  ...                                               text target\n",
              "0   1     NaN  ...   Our Deeds Reason earthquake May ALLAH Forgive us      1\n",
              "1   4     NaN  ...              Forest fire near La Ronge Sask Canada      1\n",
              "2   5     NaN  ...  All residents asked shelter place notified off...      1\n",
              "3   6     NaN  ...  13000 people receive wildfires evacuation orde...      1\n",
              "4   7     NaN  ...  Just got sent photo Ruby Alaska smoke wildfire...      1\n",
              "\n",
              "[5 rows x 5 columns]"
            ]
          },
          "metadata": {
            "tags": []
          },
          "execution_count": 35
        }
      ]
    },
    {
      "cell_type": "markdown",
      "metadata": {
        "id": "6K66naUC68co",
        "colab_type": "text"
      },
      "source": [
        "# BERT"
      ]
    },
    {
      "cell_type": "code",
      "metadata": {
        "id": "rOfMzMQaP4ZU",
        "colab_type": "code",
        "outputId": "bccda0b4-96ff-4b28-9476-273a83145ef1",
        "colab": {
          "base_uri": "https://localhost:8080/",
          "height": 51
        }
      },
      "source": [
        "%%time\n",
        "bert_layer = hub.KerasLayer(\n",
        "    'https://tfhub.dev/tensorflow/bert_en_cased_L-24_H-1024_A-16/1',\n",
        "    trainable=True\n",
        ")"
      ],
      "execution_count": 0,
      "outputs": [
        {
          "output_type": "stream",
          "text": [
            "CPU times: user 21.7 s, sys: 4.21 s, total: 25.9 s\n",
            "Wall time: 45.8 s\n"
          ],
          "name": "stdout"
        }
      ]
    },
    {
      "cell_type": "code",
      "metadata": {
        "id": "cvV17omORL_8",
        "colab_type": "code",
        "colab": {}
      },
      "source": [
        "def bert_encode(texts, tokenizer, max_len=512):\n",
        "    all_tokens = []\n",
        "    all_masks = []\n",
        "    all_segments = []\n",
        "    \n",
        "    for text in texts:\n",
        "        text = tokenizer.tokenize(text)\n",
        "            \n",
        "        text = text[:max_len-2]\n",
        "        input_sequence = [\"[CLS]\"] + text + [\"[SEP]\"]\n",
        "        pad_len = max_len - len(input_sequence)\n",
        "        \n",
        "        tokens = tokenizer.convert_tokens_to_ids(input_sequence)\n",
        "        tokens += [0] * pad_len\n",
        "        pad_masks = [1] * len(input_sequence) + [0] * pad_len\n",
        "        segment_ids = [0] * max_len\n",
        "        \n",
        "        all_tokens.append(tokens)\n",
        "        all_masks.append(pad_masks)\n",
        "        all_segments.append(segment_ids)\n",
        "    \n",
        "    return np.array(all_tokens), np.array(all_masks), np.array(all_segments)"
      ],
      "execution_count": 0,
      "outputs": []
    },
    {
      "cell_type": "code",
      "metadata": {
        "id": "KWIWJyZcR-jC",
        "colab_type": "code",
        "colab": {}
      },
      "source": [
        "max_len = 160\n",
        "\n",
        "vocab_file = bert_layer.resolved_object.vocab_file.asset_path.numpy()\n",
        "do_lower_case = bert_layer.resolved_object.do_lower_case.numpy()\n",
        "tokenizer = tokenization.FullTokenizer(vocab_file, do_lower_case)\n",
        "\n",
        "train_input = bert_encode(df_train.text.values, tokenizer, max_len=max_len)\n",
        "train_labels = df_train.target.values"
      ],
      "execution_count": 0,
      "outputs": []
    },
    {
      "cell_type": "code",
      "metadata": {
        "id": "Th_JWSLFupNz",
        "colab_type": "code",
        "colab": {}
      },
      "source": [
        "def build_model(bert_layer, max_len=512):\n",
        "    input_word_ids = Input(shape=(max_len,), dtype=tf.int32, name=\"input_word_ids\")\n",
        "    input_mask = Input(shape=(max_len,), dtype=tf.int32, name=\"input_mask\")\n",
        "    segment_ids = Input(shape=(max_len,), dtype=tf.int32, name=\"segment_ids\")\n",
        "\n",
        "    _, sequence_output = bert_layer([input_word_ids, input_mask, segment_ids])\n",
        "    clf_output = sequence_output[:, 0, :]\n",
        "    out = Dense(1, activation='sigmoid')(clf_output)\n",
        "    \n",
        "    model = Model(inputs=[input_word_ids, input_mask, segment_ids], outputs=out)\n",
        "    model.compile(Adam(lr=6e-6), loss='binary_crossentropy', metrics=['accuracy'])\n",
        "    \n",
        "    return model"
      ],
      "execution_count": 0,
      "outputs": []
    },
    {
      "cell_type": "code",
      "metadata": {
        "id": "chcK01K7vuDS",
        "colab_type": "code",
        "outputId": "fb32ff81-df9b-4f4c-f7bd-0a6193a7ef28",
        "colab": {
          "base_uri": "https://localhost:8080/",
          "height": 391
        }
      },
      "source": [
        "model = build_model(bert_layer, max_len=max_len)\n",
        "model.summary()"
      ],
      "execution_count": 0,
      "outputs": [
        {
          "output_type": "stream",
          "text": [
            "Model: \"model\"\n",
            "__________________________________________________________________________________________________\n",
            "Layer (type)                    Output Shape         Param #     Connected to                     \n",
            "==================================================================================================\n",
            "input_word_ids (InputLayer)     [(None, 160)]        0                                            \n",
            "__________________________________________________________________________________________________\n",
            "input_mask (InputLayer)         [(None, 160)]        0                                            \n",
            "__________________________________________________________________________________________________\n",
            "segment_ids (InputLayer)        [(None, 160)]        0                                            \n",
            "__________________________________________________________________________________________________\n",
            "keras_layer (KerasLayer)        [(None, 1024), (None 333579265   input_word_ids[0][0]             \n",
            "                                                                 input_mask[0][0]                 \n",
            "                                                                 segment_ids[0][0]                \n",
            "__________________________________________________________________________________________________\n",
            "tf_op_layer_strided_slice (Tens [(None, 1024)]       0           keras_layer[0][1]                \n",
            "__________________________________________________________________________________________________\n",
            "dense (Dense)                   (None, 1)            1025        tf_op_layer_strided_slice[0][0]  \n",
            "==================================================================================================\n",
            "Total params: 333,580,290\n",
            "Trainable params: 333,580,289\n",
            "Non-trainable params: 1\n",
            "__________________________________________________________________________________________________\n"
          ],
          "name": "stdout"
        }
      ]
    },
    {
      "cell_type": "code",
      "metadata": {
        "id": "tI0Frr1VwDYi",
        "colab_type": "code",
        "outputId": "71dfc9a9-3608-4faa-defc-2ad5e808ff15",
        "colab": {
          "base_uri": "https://localhost:8080/",
          "height": 224
        }
      },
      "source": [
        "train_history = model.fit(\n",
        "    train_input, train_labels,\n",
        "    validation_split=0.2,\n",
        "    epochs=5,\n",
        "    batch_size=12\n",
        ")\n",
        "\n",
        "model.save('model.h5')"
      ],
      "execution_count": 0,
      "outputs": [
        {
          "output_type": "stream",
          "text": [
            "Train on 6090 samples, validate on 1523 samples\n",
            "Epoch 1/5\n",
            "6090/6090 [==============================] - 453s 74ms/sample - loss: 0.4393 - accuracy: 0.8061 - val_loss: 0.3897 - val_accuracy: 0.8339\n",
            "Epoch 2/5\n",
            "6090/6090 [==============================] - 421s 69ms/sample - loss: 0.2683 - accuracy: 0.8926 - val_loss: 0.4376 - val_accuracy: 0.8214\n",
            "Epoch 3/5\n",
            "6090/6090 [==============================] - 421s 69ms/sample - loss: 0.1162 - accuracy: 0.9563 - val_loss: 0.5779 - val_accuracy: 0.8181\n",
            "Epoch 4/5\n",
            "6090/6090 [==============================] - 421s 69ms/sample - loss: 0.0695 - accuracy: 0.9749 - val_loss: 0.6564 - val_accuracy: 0.8286\n",
            "Epoch 5/5\n",
            "6090/6090 [==============================] - 421s 69ms/sample - loss: 0.0489 - accuracy: 0.9782 - val_loss: 0.7367 - val_accuracy: 0.8201\n"
          ],
          "name": "stdout"
        }
      ]
    },
    {
      "cell_type": "markdown",
      "metadata": {
        "id": "AWNsFvSh3yqz",
        "colab_type": "text"
      },
      "source": [
        "# Prediction test"
      ]
    },
    {
      "cell_type": "code",
      "metadata": {
        "id": "0q5zWEXaweFP",
        "colab_type": "code",
        "colab": {}
      },
      "source": [
        "data_cleaning(df_test)"
      ],
      "execution_count": 0,
      "outputs": []
    },
    {
      "cell_type": "code",
      "metadata": {
        "id": "Nw-5AYMK36Ag",
        "colab_type": "code",
        "colab": {}
      },
      "source": [
        "test_input = bert_encode(df_test.text.values, tokenizer, max_len=max_len)"
      ],
      "execution_count": 0,
      "outputs": []
    },
    {
      "cell_type": "code",
      "metadata": {
        "id": "9t8XZqd937PK",
        "colab_type": "code",
        "colab": {}
      },
      "source": [
        "test_pred = model.predict(test_input)"
      ],
      "execution_count": 0,
      "outputs": []
    },
    {
      "cell_type": "code",
      "metadata": {
        "id": "OdpZoQjn4Jex",
        "colab_type": "code",
        "colab": {}
      },
      "source": [
        "df_sample['target']=test_pred.round().astype(int)"
      ],
      "execution_count": 0,
      "outputs": []
    },
    {
      "cell_type": "code",
      "metadata": {
        "id": "5bsYEqZd4ygI",
        "colab_type": "code",
        "colab": {}
      },
      "source": [
        "df_sample.to_csv('/content/drive/My Drive/Colab Notebooks/Kaggle_NLP/submission.csv', index=False)"
      ],
      "execution_count": 0,
      "outputs": []
    },
    {
      "cell_type": "code",
      "metadata": {
        "id": "y5WJ_oVl47-0",
        "colab_type": "code",
        "colab": {}
      },
      "source": [
        ""
      ],
      "execution_count": 0,
      "outputs": []
    }
  ]
}